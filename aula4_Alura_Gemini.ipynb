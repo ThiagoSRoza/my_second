{
  "nbformat": 4,
  "nbformat_minor": 0,
  "metadata": {
    "colab": {
      "provenance": [],
      "authorship_tag": "ABX9TyMsPCThOSAljpNDdKmtJdJu",
      "include_colab_link": true
    },
    "kernelspec": {
      "name": "python3",
      "display_name": "Python 3"
    },
    "language_info": {
      "name": "python"
    }
  },
  "cells": [
    {
      "cell_type": "markdown",
      "metadata": {
        "id": "view-in-github",
        "colab_type": "text"
      },
      "source": [
        "<a href=\"https://colab.research.google.com/github/ThiagoSRoza/my_second/blob/main/aula4_Alura_Gemini.ipynb\" target=\"_parent\"><img src=\"https://colab.research.google.com/assets/colab-badge.svg\" alt=\"Open In Colab\"/></a>"
      ]
    },
    {
      "cell_type": "code",
      "execution_count": null,
      "metadata": {
        "id": "LIo0m8-zdgnq"
      },
      "outputs": [],
      "source": []
    },
    {
      "cell_type": "markdown",
      "source": [
        "Instalando o SDK do Google"
      ],
      "metadata": {
        "id": "BuCin_yAdn-Y"
      }
    },
    {
      "cell_type": "code",
      "source": [
        "#Instalando o SDK do Google\n",
        "!pip install -q -U google-generativeai"
      ],
      "metadata": {
        "id": "XOKC57thdrRh"
      },
      "execution_count": 1,
      "outputs": []
    },
    {
      "cell_type": "code",
      "source": [
        "#Configurações iniciais\n",
        "import google.generativeai as genai\n",
        "\n",
        "GOOGLE_API_KEY=\"\"\n",
        "genai.configure(api_key=GOOGLE_API_KEY)"
      ],
      "metadata": {
        "id": "a76BOeV9dxSD"
      },
      "execution_count": 2,
      "outputs": []
    },
    {
      "cell_type": "code",
      "source": [
        "#Listando os modelos disponíveis\n",
        "for m in genai.list_models():\n",
        "  if 'generateContent' in m.supported_generation_methods:\n",
        "    print(m.name , \"\\tDescription: \", m.description)"
      ],
      "metadata": {
        "colab": {
          "base_uri": "https://localhost:8080/",
          "height": 139
        },
        "id": "AaHaC0eZd3GH",
        "outputId": "7d4801ac-5d92-4db8-bbd1-c1b7d4d8e76f"
      },
      "execution_count": 11,
      "outputs": [
        {
          "output_type": "stream",
          "name": "stdout",
          "text": [
            "models/gemini-1.0-pro \tDescription:  The best model for scaling across a wide range of tasks\n",
            "models/gemini-1.0-pro-001 \tDescription:  The best model for scaling across a wide range of tasks. This is a stable model that supports tuning.\n",
            "models/gemini-1.0-pro-latest \tDescription:  The best model for scaling across a wide range of tasks. This is the latest model.\n",
            "models/gemini-1.0-pro-vision-latest \tDescription:  The best image understanding model to handle a broad range of applications\n",
            "models/gemini-1.5-pro-latest \tDescription:  Mid-size multimodal model that supports up to 1 million tokens\n",
            "models/gemini-pro \tDescription:  The best model for scaling across a wide range of tasks\n",
            "models/gemini-pro-vision \tDescription:  The best image understanding model to handle a broad range of applications\n"
          ]
        }
      ]
    },
    {
      "cell_type": "code",
      "source": [
        "#criando dicionario com dados de configuracoes\n",
        "generation_config = {\n",
        "  \"candidate_count\": 1,\n",
        "  \"temperature\": 0.5,\n",
        "  #\"top_p\": 1\n",
        "}"
      ],
      "metadata": {
        "id": "2Snf4Msvd6GH"
      },
      "execution_count": 13,
      "outputs": []
    },
    {
      "cell_type": "code",
      "source": [
        "#criando dicionario com dados de configuracoes de seguranca\n",
        "safety_settings={\n",
        "    'HATE': 'BLOCK_NONE',\n",
        "    'HARASSMENT': 'BLOCK_NONE',\n",
        "    'SEXUAL' : 'BLOCK_NONE',\n",
        "    'DANGEROUS' : 'BLOCK_NONE'\n",
        "    }"
      ],
      "metadata": {
        "id": "8vZXkfa8fdCg"
      },
      "execution_count": 15,
      "outputs": []
    },
    {
      "cell_type": "code",
      "source": [
        "#Inicializando o modelo:\n",
        "model = genai.GenerativeModel(model_name='gemini-1.0-pro',\n",
        "                                  generation_config=generation_config,\n",
        "                                  safety_settings=safety_settings,)"
      ],
      "metadata": {
        "id": "OlWTY_sFgd6f"
      },
      "execution_count": 16,
      "outputs": []
    },
    {
      "cell_type": "code",
      "source": [
        "response = model.generate_content(\"Que empresa criou o modelo de IA Gemini?\")\n",
        "response.text"
      ],
      "metadata": {
        "colab": {
          "base_uri": "https://localhost:8080/",
          "height": 35
        },
        "id": "37zpTEFMgvoo",
        "outputId": "c084c950-bd17-4ea8-bb0a-9be5d5b9315d"
      },
      "execution_count": 19,
      "outputs": [
        {
          "output_type": "execute_result",
          "data": {
            "text/plain": [
              "'Google'"
            ],
            "application/vnd.google.colaboratory.intrinsic+json": {
              "type": "string"
            }
          },
          "metadata": {},
          "execution_count": 19
        }
      ]
    },
    {
      "cell_type": "code",
      "source": [
        "chat = model.start_chat(history=[])\n"
      ],
      "metadata": {
        "id": "2fjdf775hsyv"
      },
      "execution_count": 22,
      "outputs": []
    },
    {
      "cell_type": "code",
      "source": [
        "prompt = input('Esperando prompt: ')\n",
        "\n",
        "while prompt != \"fim\":\n",
        "  response = chat.send_message(prompt)\n",
        "  print(\"Resposta: \", response.text, '\\n\\n')\n",
        "  prompt = input('Esperando prompt: ')"
      ],
      "metadata": {
        "colab": {
          "base_uri": "https://localhost:8080/",
          "height": 243
        },
        "id": "J30z18JciU-L",
        "outputId": "33d9cce2-1407-4851-ddb7-e027b6de48d9"
      },
      "execution_count": 27,
      "outputs": [
        {
          "name": "stdout",
          "output_type": "stream",
          "text": [
            "Esperando prompt: qual é a capital do Japão?\n",
            "Resposta:  Tóquio\n",
            "\n",
            "(Em japonês: 東京, Tōkyō) \n",
            "\n",
            "\n",
            "Esperando prompt: Qual é a comida típica desse país?\n",
            "Resposta:  Sushi\n",
            "\n",
            "(Em japonês: 寿司, すし) \n",
            "\n",
            "\n",
            "Esperando prompt: fim\n"
          ]
        }
      ]
    },
    {
      "cell_type": "code",
      "source": [
        "#Melhorando a visualização\n",
        "#Código disponível em https://ai.google.dev/tutorials/python_quickstart#import_packages\n",
        "import textwrap\n",
        "from IPython.display import display\n",
        "from IPython.display import Markdown\n",
        "\n",
        "def to_markdown(text):\n",
        "  text = text.replace('•', '  *')\n",
        "  return Markdown(textwrap.indent(text, '> ', predicate=lambda _: True))\n",
        "\n",
        "#Imprimindo o histórico\n",
        "for message in chat.history:\n",
        "  display(to_markdown(f'**{message.role}**: {message.parts[0].text}'))\n",
        "  print('-------------------------------------------')"
      ],
      "metadata": {
        "colab": {
          "base_uri": "https://localhost:8080/",
          "height": 1000
        },
        "id": "tppo4MtnzHqP",
        "outputId": "164e3fab-d2b3-4663-f21f-888c422dc9eb"
      },
      "execution_count": 28,
      "outputs": [
        {
          "output_type": "display_data",
          "data": {
            "text/plain": [
              "<IPython.core.display.Markdown object>"
            ],
            "text/markdown": "> **user**: arthur"
          },
          "metadata": {}
        },
        {
          "output_type": "stream",
          "name": "stdout",
          "text": [
            "-------------------------------------------\n"
          ]
        },
        {
          "output_type": "display_data",
          "data": {
            "text/plain": [
              "<IPython.core.display.Markdown object>"
            ],
            "text/markdown": "> **model**: **Name:** Arthur\n> \n> **Species:** Aardvark\n> \n> **Age:** 8 years old\n> \n> **Gender:** Male\n> \n> **Personality:**\n> \n> * Curious and adventurous\n> * Friendly and outgoing\n> * Playful and energetic\n> * Loyal and protective of his friends\n> \n> **Appearance:**\n> \n> * Long, slender snout with a large, sticky tongue\n> * Large, floppy ears\n> * Short, stocky body covered in coarse, gray hair\n> * Powerful claws for digging burrows\n> \n> **Habitat:**\n> \n> * African savannas and grasslands\n> \n> **Diet:**\n> \n> * Primarily eats ants and termites\n> * Also consumes other insects, roots, and fruits\n> \n> **Behavior:**\n> \n> * Nocturnal, spending the day in burrows\n> * Digs burrows for shelter and to raise young\n> * Solitary animals, except during mating season\n> * Excellent sense of smell and hearing\n> * Can run quickly and swim well\n> \n> **Social Structure:**\n> \n> * Arthur is a solitary aardvark, but he has a close bond with his mother.\n> * He is also friendly towards other animals, such as zebras and warthogs.\n> \n> **Reproduction:**\n> \n> * Arthur is sexually mature at around 2 years old.\n> * Females give birth to a single offspring after a gestation period of 7 months.\n> * Young aardvarks are born with their eyes open and can walk within a few hours.\n> \n> **Conservation Status:**\n> \n> * Arthur is not an endangered species, but aardvarks are threatened by habitat loss and hunting.\n> \n> **Other Facts:**\n> \n> * Arthur's favorite food is termites.\n> * He loves to play in the mud and take baths.\n> * He is a skilled burrower and can dig a burrow up to 10 meters long in a single night.\n> * Arthur is a curious and intelligent animal who is always eager to explore his surroundings."
          },
          "metadata": {}
        },
        {
          "output_type": "stream",
          "name": "stdout",
          "text": [
            "-------------------------------------------\n"
          ]
        },
        {
          "output_type": "display_data",
          "data": {
            "text/plain": [
              "<IPython.core.display.Markdown object>"
            ],
            "text/markdown": "> **user**: qual é a capital do Japão?"
          },
          "metadata": {}
        },
        {
          "output_type": "stream",
          "name": "stdout",
          "text": [
            "-------------------------------------------\n"
          ]
        },
        {
          "output_type": "display_data",
          "data": {
            "text/plain": [
              "<IPython.core.display.Markdown object>"
            ],
            "text/markdown": "> **model**: Tóquio\n> \n> (Em japonês: 東京, Tōkyō)"
          },
          "metadata": {}
        },
        {
          "output_type": "stream",
          "name": "stdout",
          "text": [
            "-------------------------------------------\n"
          ]
        },
        {
          "output_type": "display_data",
          "data": {
            "text/plain": [
              "<IPython.core.display.Markdown object>"
            ],
            "text/markdown": "> **user**: Qual é a comida típica desse país?"
          },
          "metadata": {}
        },
        {
          "output_type": "stream",
          "name": "stdout",
          "text": [
            "-------------------------------------------\n"
          ]
        },
        {
          "output_type": "display_data",
          "data": {
            "text/plain": [
              "<IPython.core.display.Markdown object>"
            ],
            "text/markdown": "> **model**: Sushi\n> \n> (Em japonês: 寿司, すし)"
          },
          "metadata": {}
        },
        {
          "output_type": "stream",
          "name": "stdout",
          "text": [
            "-------------------------------------------\n"
          ]
        }
      ]
    }
  ]
}